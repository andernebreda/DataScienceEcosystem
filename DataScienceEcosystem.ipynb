{
 "cells": [
  {
   "cell_type": "markdown",
   "id": "1246b678",
   "metadata": {},
   "source": [
    "## Author:\n",
    "*Ander Nebreda*"
   ]
  },
  {
   "cell_type": "markdown",
   "id": "f8345465",
   "metadata": {},
   "source": [
    "# *Data Science Tools and Ecosystem*"
   ]
  },
  {
   "cell_type": "markdown",
   "id": "3ecae93b",
   "metadata": {},
   "source": [
    "### In this notebook, Data Science Tools and Ecosystem are summarized."
   ]
  },
  {
   "cell_type": "markdown",
   "id": "158fdaac",
   "metadata": {},
   "source": [
    "**Objectives:**\n",
    "* Enumerate some of the popular programming languages in Data Science.\n",
    "* Enumerate some of the most popular libraries used in Data Science.\n",
    "* Create tables using markdown methods.\n",
    "* Show the use of arithmetic expressions."
   ]
  },
  {
   "cell_type": "markdown",
   "id": "82de4c31",
   "metadata": {},
   "source": [
    "The most popular programming languages for Data Science are:\n",
    "    \n",
    "* Python\n",
    "* R\n",
    "* SQL\n",
    "* Java"
   ]
  },
  {
   "cell_type": "markdown",
   "id": "b8a690dd",
   "metadata": {},
   "source": [
    "The most popular libraries for Data Science are:    \n",
    "* Scientific Computing Libraries:\n",
    "    - Pandas\n",
    "    - Numpy\n",
    "* Machine Learning:\n",
    "    - Scikit-learn\n",
    "    - Keras\n",
    "* Visulization:\n",
    "    - Matplotlib\n",
    "    - Seaborn\n",
    "* Deep Learning:\n",
    "    - TensorFlow\n",
    "    - PyTorch"
   ]
  },
  {
   "cell_type": "markdown",
   "id": "76034d91",
   "metadata": {},
   "source": [
    "| Data Science Tools |\n",
    "| ------ |\n",
    "| JupyterNotebook|\n",
    "| RStudio |\n",
    "|Spyder |"
   ]
  },
  {
   "cell_type": "markdown",
   "id": "654db44a",
   "metadata": {},
   "source": [
    "### Below are a few examples of evaluating arithmetic expressions in Python."
   ]
  },
  {
   "cell_type": "code",
   "execution_count": 5,
   "id": "18afdfaf",
   "metadata": {},
   "outputs": [
    {
     "name": "stdout",
     "output_type": "stream",
     "text": [
      "3+2=5\n",
      "2*3=6\n",
      "8/2=4\n"
     ]
    }
   ],
   "source": [
    "suma= 3+2\n",
    "multiplicacion= 2*3\n",
    "division= int(8/2)\n",
    "print(f\"3+2={suma}\")\n",
    "print(f\"2*3={multiplicacion}\")\n",
    "print(f\"8/2={division}\")"
   ]
  },
  {
   "cell_type": "code",
   "execution_count": 13,
   "id": "f0dfc981",
   "metadata": {},
   "outputs": [
    {
     "name": "stdout",
     "output_type": "stream",
     "text": [
      "Write here the minutes to be converted:200\n",
      "\n",
      "200 minutes are the equivalent to 3.33 hours\n"
     ]
    }
   ],
   "source": [
    "#Converter of minutes into hours:\n",
    "minutes=input(\"Write here the minutes to be converted:\")\n",
    "hours=int(minutes)/60\n",
    "hours= round(hours, 2)\n",
    "print()\n",
    "print(f\"{minutes} minutes are the equivalent to {hours} hours\")"
   ]
  }
 ],
 "metadata": {
  "kernelspec": {
   "display_name": "Python 3 (ipykernel)",
   "language": "python",
   "name": "python3"
  },
  "language_info": {
   "codemirror_mode": {
    "name": "ipython",
    "version": 3
   },
   "file_extension": ".py",
   "mimetype": "text/x-python",
   "name": "python",
   "nbconvert_exporter": "python",
   "pygments_lexer": "ipython3",
   "version": "3.11.5"
  }
 },
 "nbformat": 4,
 "nbformat_minor": 5
}
